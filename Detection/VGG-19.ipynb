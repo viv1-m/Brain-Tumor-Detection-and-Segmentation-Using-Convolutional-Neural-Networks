{
 "cells": [
  {
   "cell_type": "code",
   "execution_count": 4,
   "metadata": {},
   "outputs": [],
   "source": [
    "from keras.applications.vgg19 import VGG19,preprocess_input\n",
    "from keras.applications.xception import Xception,preprocess_input\n",
    "from keras.applications.inception_v3 import InceptionV3\n",
    "from keras.applications.resnet50 import ResNet50\n",
    "import numpy as np \n",
    "from tqdm import tqdm\n",
    "import cv2\n",
    "import os\n",
    "import shutil\n",
    "import itertools\n",
    "import imutils\n",
    "import matplotlib.pyplot as plt\n",
    "from sklearn.preprocessing import LabelBinarizer\n",
    "from sklearn.model_selection import train_test_split\n",
    "from sklearn.metrics import accuracy_score, confusion_matrix\n",
    "\n",
    "# import plotly.graph_objs as go\n",
    "# from plotly.offline import init_notebook_mode, iplot\n",
    "# from plotly import tools\n",
    "\n",
    "from keras.preprocessing.image import ImageDataGenerator\n",
    "from keras.applications.vgg16 import VGG16, preprocess_input\n",
    "from keras import layers\n",
    "from keras.models import Model, Sequential\n",
    "from keras.optimizers import Adam, RMSprop\n",
    "from keras.callbacks import EarlyStopping\n",
    "\n",
    "#init_notebook_mode(connected=True)\n",
    "RANDOM_SEED = 123\n"
   ]
  },
  {
   "cell_type": "code",
   "execution_count": 4,
   "metadata": {},
   "outputs": [],
   "source": [
    "IMG_PATH = 'augmented_data/'"
   ]
  },
  {
   "cell_type": "code",
   "execution_count": 5,
   "metadata": {},
   "outputs": [],
   "source": [
    "# split the data by train/val/test\n",
    "for CLASS in os.listdir(IMG_PATH):\n",
    "    if not CLASS.startswith('.'):\n",
    "        IMG_NUM = len(os.listdir(IMG_PATH + CLASS))\n",
    "        for (n, FILE_NAME) in enumerate(os.listdir(IMG_PATH + CLASS)):\n",
    "            img = IMG_PATH + CLASS + '/' + FILE_NAME\n",
    "            if n < 5:\n",
    "                shutil.copy(img, 'TEST/' + CLASS.upper() + '/' + FILE_NAME)\n",
    "            elif n < 0.8*IMG_NUM:\n",
    "                shutil.copy(img, 'TRAIN/'+ CLASS.upper() + '/' + FILE_NAME)\n",
    "            else:\n",
    "                shutil.copy(img, 'VAL/'+ CLASS.upper() + '/' + FILE_NAME)\n"
   ]
  },
  {
   "cell_type": "code",
   "execution_count": 10,
   "metadata": {},
   "outputs": [],
   "source": [
    "def load_data(dir_path, img_size=(100,100)):\n",
    "    \"\"\"\n",
    "    Load resized images as np.arrays to workspace\n",
    "    \"\"\"\n",
    "    X = []\n",
    "    y = []\n",
    "    i = 0\n",
    "    labels = dict()\n",
    "    for path in tqdm(sorted(os.listdir(dir_path))):\n",
    "        if not path.startswith('.'):\n",
    "            labels[i] = path\n",
    "            for file in os.listdir(dir_path + path):\n",
    "                if not file.startswith('.'):\n",
    "                    img = cv2.imread(dir_path + path + '/' + file)\n",
    "                    X.append(img)\n",
    "                    y.append(i)\n",
    "            i += 1\n",
    "    X = np.array(X)\n",
    "    y = np.array(y)\n",
    "    print(f'{len(X)} images loaded from {dir_path} directory.')\n",
    "    return X, y, labels\n",
    "\n"
   ]
  },
  {
   "cell_type": "code",
   "execution_count": 5,
   "metadata": {},
   "outputs": [],
   "source": [
    "def plot_confusion_matrix(cm, classes,\n",
    "                          normalize=False,\n",
    "                          title='Confusion matrix',\n",
    "                          cmap=plt.cm.Blues):\n",
    "    \"\"\"\n",
    "    This function prints and plots the confusion matrix.\n",
    "    Normalization can be applied by setting `normalize=True`.\n",
    "    \"\"\"\n",
    "    plt.figure(figsize = (6,6))\n",
    "    plt.imshow(cm, interpolation='nearest', cmap=cmap)\n",
    "    plt.title(title)\n",
    "    plt.colorbar()\n",
    "    tick_marks = np.arange(len(classes))\n",
    "    plt.xticks(tick_marks, classes, rotation=90)\n",
    "    plt.yticks(tick_marks, classes)\n",
    "    if normalize:\n",
    "        cm = cm.astype('float') / cm.sum(axis=1)[:, np.newaxis]\n",
    "\n",
    "    thresh = cm.max() / 2.\n",
    "    cm = np.round(cm,2)\n",
    "    for i, j in itertools.product(range(cm.shape[0]), range(cm.shape[1])):\n",
    "        plt.text(j, i, cm[i, j],\n",
    "                 horizontalalignment=\"center\",\n",
    "                 color=\"white\" if cm[i, j] > thresh else \"black\")\n",
    "    plt.tight_layout()\n",
    "    plt.ylabel('True label')\n",
    "    plt.xlabel('Predicted label')\n",
    "    plt.show()"
   ]
  },
  {
   "cell_type": "code",
   "execution_count": 15,
   "metadata": {},
   "outputs": [
    {
     "name": "stderr",
     "output_type": "stream",
     "text": [
      "100%|██████████| 2/2 [00:06<00:00,  3.37s/it]\n",
      "<ipython-input-10-bdf82dc0d3a7>:18: VisibleDeprecationWarning: Creating an ndarray from ragged nested sequences (which is a list-or-tuple of lists-or-tuples-or ndarrays with different lengths or shapes) is deprecated. If you meant to do this, you must specify 'dtype=object' when creating the ndarray\n",
      "  X = np.array(X)\n",
      "100%|██████████| 2/2 [00:00<00:00, 12.25it/s]\n",
      "  0%|          | 0/2 [00:00<?, ?it/s]"
     ]
    },
    {
     "name": "stdout",
     "output_type": "stream",
     "text": [
      "1642 images loaded from TRAIN/ directory.\n",
      "10 images loaded from TEST/ directory.\n"
     ]
    },
    {
     "name": "stderr",
     "output_type": "stream",
     "text": [
      "100%|██████████| 2/2 [00:01<00:00,  1.19it/s]"
     ]
    },
    {
     "name": "stdout",
     "output_type": "stream",
     "text": [
      "412 images loaded from VAL/ directory.\n"
     ]
    },
    {
     "name": "stderr",
     "output_type": "stream",
     "text": [
      "\n"
     ]
    }
   ],
   "source": [
    "TRAIN_DIR = 'TRAIN/'\n",
    "TEST_DIR = 'TEST/'\n",
    "VAL_DIR = 'VAL/'\n",
    "IMG_SIZE = (224,224)\n",
    "\n",
    "# use predefined function to load the image data into workspace\n",
    "X_train, y_train, labels = load_data(TRAIN_DIR, IMG_SIZE)\n",
    "X_test, y_test, _ = load_data(TEST_DIR, IMG_SIZE)\n",
    "X_val, y_val, _ = load_data(VAL_DIR, IMG_SIZE)"
   ]
  },
  {
   "cell_type": "code",
   "execution_count": 16,
   "metadata": {},
   "outputs": [],
   "source": [
    "def crop_imgs(set_name, add_pixels_value=0):\n",
    "    \"\"\"\n",
    "    Finds the extreme points on the image and crops the rectangular out of them\n",
    "    \"\"\"\n",
    "    set_new = []\n",
    "    for img in set_name:\n",
    "        gray = cv2.cvtColor(img, cv2.COLOR_RGB2GRAY)\n",
    "        gray = cv2.GaussianBlur(gray, (5, 5), 0)\n",
    "\n",
    "        # threshold the image, then perform a series of erosions +\n",
    "        # dilations to remove any small regions of noise\n",
    "        thresh = cv2.threshold(gray, 45, 255, cv2.THRESH_BINARY)[1]\n",
    "        thresh = cv2.erode(thresh, None, iterations=2)\n",
    "        thresh = cv2.dilate(thresh, None, iterations=2)\n",
    "\n",
    "        # find contours in thresholded image, then grab the largest one\n",
    "        cnts = cv2.findContours(thresh.copy(), cv2.RETR_EXTERNAL, cv2.CHAIN_APPROX_SIMPLE)\n",
    "        cnts = imutils.grab_contours(cnts)\n",
    "        c = max(cnts, key=cv2.contourArea)\n",
    "\n",
    "        # find the extreme points\n",
    "        extLeft = tuple(c[c[:, :, 0].argmin()][0])\n",
    "        extRight = tuple(c[c[:, :, 0].argmax()][0])\n",
    "        extTop = tuple(c[c[:, :, 1].argmin()][0])\n",
    "        extBot = tuple(c[c[:, :, 1].argmax()][0])\n",
    "\n",
    "        ADD_PIXELS = add_pixels_value\n",
    "        new_img = img[extTop[1]-ADD_PIXELS:extBot[1]+ADD_PIXELS, extLeft[0]-ADD_PIXELS:extRight[0]+ADD_PIXELS].copy()\n",
    "        set_new.append(new_img)\n",
    "\n",
    "    return np.array(set_new)"
   ]
  },
  {
   "cell_type": "code",
   "execution_count": 17,
   "metadata": {},
   "outputs": [
    {
     "name": "stderr",
     "output_type": "stream",
     "text": [
      "<ipython-input-16-65876982ba26>:31: VisibleDeprecationWarning: Creating an ndarray from ragged nested sequences (which is a list-or-tuple of lists-or-tuples-or ndarrays with different lengths or shapes) is deprecated. If you meant to do this, you must specify 'dtype=object' when creating the ndarray\n",
      "  return np.array(set_new)\n"
     ]
    }
   ],
   "source": [
    "X_train_crop = crop_imgs(set_name=X_train)\n",
    "X_val_crop = crop_imgs(set_name=X_val)\n",
    "X_test_crop = crop_imgs(set_name=X_test)"
   ]
  },
  {
   "cell_type": "code",
   "execution_count": 13,
   "metadata": {},
   "outputs": [
    {
     "name": "stdout",
     "output_type": "stream",
     "text": [
      "mkdir: cannot create directory ‘TRAIN_CROP’: File exists\r\n",
      "mkdir: cannot create directory ‘TEST_CROP’: File exists\r\n",
      "mkdir: cannot create directory ‘VAL_CROP’: File exists\r\n",
      "mkdir: cannot create directory ‘TRAIN_CROP/YES’: File exists\r\n",
      "mkdir: cannot create directory ‘TRAIN_CROP/NO’: File exists\r\n",
      "mkdir: cannot create directory ‘TEST_CROP/YES’: File exists\r\n",
      "mkdir: cannot create directory ‘TEST_CROP/NO’: File exists\r\n",
      "mkdir: cannot create directory ‘VAL_CROP/YES’: File exists\r\n",
      "mkdir: cannot create directory ‘VAL_CROP/NO’: File exists\r\n"
     ]
    }
   ],
   "source": [
    "def save_new_images(x_set, y_set, folder_name):\n",
    "    i = 0\n",
    "    for (img, imclass) in zip(x_set, y_set):\n",
    "        if imclass == 0:\n",
    "            cv2.imwrite(folder_name+'NO/'+str(i)+'.jpg', img)\n",
    "        else:\n",
    "            cv2.imwrite(folder_name+'YES/'+str(i)+'.jpg', img)\n",
    "        i += 1\n",
    "\n",
    "!mkdir TRAIN_CROP TEST_CROP VAL_CROP TRAIN_CROP/YES TRAIN_CROP/NO TEST_CROP/YES TEST_CROP/NO VAL_CROP/YES VAL_CROP/NO\n",
    "\n",
    "save_new_images(X_train_crop, y_train, folder_name='TRAIN_CROP/')\n",
    "save_new_images(X_val_crop, y_val, folder_name='VAL_CROP/')\n",
    "save_new_images(X_test_crop, y_test, folder_name='TEST_CROP/')\n"
   ]
  },
  {
   "cell_type": "code",
   "execution_count": 18,
   "metadata": {},
   "outputs": [],
   "source": [
    "def preprocess_imgs(set_name, img_size):\n",
    "    \"\"\"\n",
    "    Resize and apply VGG-16 preprocessing\n",
    "    \"\"\"\n",
    "    set_new = []\n",
    "    for img in set_name:\n",
    "        img = cv2.resize(\n",
    "            img,\n",
    "            dsize=img_size,\n",
    "            interpolation=cv2.INTER_CUBIC\n",
    "        )\n",
    "        set_new.append(preprocess_input(img))\n",
    "    return np.array(set_new)\n",
    "\n",
    "X_train_prep = preprocess_imgs(set_name=X_train_crop, img_size=IMG_SIZE)\n",
    "X_test_prep = preprocess_imgs(set_name=X_test_crop, img_size=IMG_SIZE)\n",
    "X_val_prep = preprocess_imgs(set_name=X_val_crop, img_size=IMG_SIZE)"
   ]
  },
  {
   "cell_type": "code",
   "execution_count": 11,
   "metadata": {},
   "outputs": [],
   "source": [
    "# Data Augmentation\n",
    "TRAIN_DIR = 'TRAIN_CROP/'\n",
    "VAL_DIR = 'VAL_CROP/'\n",
    "TEST_DIR = 'TEST_CROP/'"
   ]
  },
  {
   "cell_type": "code",
   "execution_count": 12,
   "metadata": {},
   "outputs": [],
   "source": [
    "train_datagen = ImageDataGenerator(\n",
    "    rotation_range=15,\n",
    "    width_shift_range=0.1,\n",
    "    height_shift_range=0.1,\n",
    "    shear_range=0.1,\n",
    "    brightness_range=[0.5, 1.5],\n",
    "    horizontal_flip=True,\n",
    "    vertical_flip=True,\n",
    "    preprocessing_function=preprocess_input\n",
    ")\n",
    "\n",
    "test_datagen = ImageDataGenerator(\n",
    "    preprocessing_function=preprocess_input\n",
    ")"
   ]
  },
  {
   "cell_type": "code",
   "execution_count": 13,
   "metadata": {},
   "outputs": [
    {
     "name": "stdout",
     "output_type": "stream",
     "text": [
      "Found 1642 images belonging to 2 classes.\n",
      "Found 412 images belonging to 2 classes.\n"
     ]
    }
   ],
   "source": [
    "train_generator = train_datagen.flow_from_directory(\n",
    "    TRAIN_DIR,\n",
    "    color_mode='rgb',\n",
    "    target_size=IMG_SIZE,\n",
    "    batch_size=32,\n",
    "    class_mode='binary',\n",
    "    seed=RANDOM_SEED\n",
    ")\n",
    "\n",
    "\n",
    "validation_generator = test_datagen.flow_from_directory(\n",
    "    VAL_DIR,\n",
    "    color_mode='rgb',\n",
    "    target_size=IMG_SIZE,\n",
    "    batch_size=16,\n",
    "    class_mode='binary',\n",
    "    seed=RANDOM_SEED\n",
    ")"
   ]
  },
  {
   "cell_type": "code",
   "execution_count": 3,
   "metadata": {},
   "outputs": [],
   "source": [
    "IMG_SIZE = (224,224)\n",
    "#vgg19_weight_path = 'keras-pretrained-models/vgg19_weights_tf_dim_ordering_tf_kernels_notop.h5'\n",
    "vgg = VGG19(\n",
    "    #weights=vgg16_weight_path,\n",
    "    #weights=\"imagenet\",\n",
    "    include_top=False, \n",
    "    input_shape=IMG_SIZE + (3,)\n",
    ")"
   ]
  },
  {
   "cell_type": "code",
   "execution_count": 5,
   "metadata": {},
   "outputs": [],
   "source": [
    "from keras.models import Sequential\n",
    "from keras.layers import Conv2D, MaxPooling2D\n",
    "from keras.layers import Activation, Dropout, Flatten, Dense\n",
    "from keras.utils.np_utils import to_categorical\n",
    "from keras.layers import Input\n",
    "import os\n",
    "import sys\n",
    "import random\n",
    "import warnings\n",
    "from tqdm import tqdm\n",
    "from itertools import chain\n",
    "from skimage.io import imread, imshow, imread_collection, concatenate_images\n",
    "from skimage.transform import resize\n",
    "from skimage.morphology import label\n",
    "from keras.models import Model, load_model\n",
    "from keras.layers import Input\n",
    "from keras.layers.core import Dropout, Lambda\n",
    "from keras.layers.convolutional import Conv2D, Conv2DTranspose\n",
    "from keras.layers.pooling import MaxPooling2D\n",
    "from keras.layers.merge import concatenate\n",
    "from keras.callbacks import EarlyStopping, ModelCheckpoint\n",
    "from keras import backend as K\n",
    "import keras\n",
    "\n",
    "\n",
    "from keras.applications.vgg16 import VGG16\n",
    "from keras.applications.vgg16 import preprocess_input\n",
    "from keras.preprocessing.image import load_img\n",
    "from keras.preprocessing.image import img_to_array\n",
    "from keras.models import Model\n",
    "from matplotlib import pyplot \n",
    "from numpy import expand_dims"
   ]
  },
  {
   "cell_type": "code",
   "execution_count": 6,
   "metadata": {},
   "outputs": [
    {
     "name": "stdout",
     "output_type": "stream",
     "text": [
      "Model: \"sequential\"\n",
      "_________________________________________________________________\n",
      "Layer (type)                 Output Shape              Param #   \n",
      "=================================================================\n",
      "vgg19 (Functional)           (None, 7, 7, 512)         20024384  \n",
      "_________________________________________________________________\n",
      "dropout (Dropout)            (None, 7, 7, 512)         0         \n",
      "_________________________________________________________________\n",
      "flatten (Flatten)            (None, 25088)             0         \n",
      "_________________________________________________________________\n",
      "dropout_1 (Dropout)          (None, 25088)             0         \n",
      "_________________________________________________________________\n",
      "dense (Dense)                (None, 1)                 25089     \n",
      "=================================================================\n",
      "Total params: 20,049,473\n",
      "Trainable params: 25,089\n",
      "Non-trainable params: 20,024,384\n",
      "_________________________________________________________________\n"
     ]
    }
   ],
   "source": [
    "# Model with VGG16(Accuracy on validation set of 90%)\n",
    "NUM_CLASSES = 1\n",
    "\n",
    "vgg19 = Sequential()\n",
    "vgg19.add(vgg)\n",
    "vgg19.add(layers.Dropout(0.3))\n",
    "vgg19.add(layers.Flatten())\n",
    "vgg19.add(layers.Dropout(0.5))\n",
    "vgg19.add(layers.Dense(NUM_CLASSES, activation='sigmoid'))\n",
    "\n",
    "vgg19.layers[0].trainable = False\n",
    "\n",
    "vgg19.compile(\n",
    "    loss='binary_crossentropy',\n",
    "    optimizer=RMSprop(lr=1e-4),\n",
    "    metrics=['accuracy']\n",
    ")\n",
    "\n",
    "vgg19.summary()"
   ]
  },
  {
   "cell_type": "code",
   "execution_count": 30,
   "metadata": {
    "scrolled": true
   },
   "outputs": [
    {
     "name": "stdout",
     "output_type": "stream",
     "text": [
      "Epoch 1/40\n",
      "50/50 [==============================] - ETA: 0s - loss: 4.6199 - accuracy: 0.5906\n",
      "Epoch 00001: saving model to checkpoint.h5\n",
      "50/50 [==============================] - 570s 11s/step - loss: 4.6199 - accuracy: 0.5906 - val_loss: 2.4218 - val_accuracy: 0.7281\n",
      "Epoch 2/40\n",
      "50/50 [==============================] - ETA: 0s - loss: 3.4906 - accuracy: 0.6698\n",
      "Epoch 00002: saving model to checkpoint.h5\n",
      "50/50 [==============================] - 571s 11s/step - loss: 3.4906 - accuracy: 0.6698 - val_loss: 1.8279 - val_accuracy: 0.7781\n",
      "Epoch 3/40\n",
      "50/50 [==============================] - ETA: 0s - loss: 3.1758 - accuracy: 0.7186\n",
      "Epoch 00003: saving model to checkpoint.h5\n",
      "50/50 [==============================] - 573s 11s/step - loss: 3.1758 - accuracy: 0.7186 - val_loss: 1.5937 - val_accuracy: 0.8156\n",
      "Epoch 4/40\n",
      "50/50 [==============================] - ETA: 0s - loss: 2.8127 - accuracy: 0.7307\n",
      "Epoch 00004: saving model to checkpoint.h5\n",
      "50/50 [==============================] - 573s 11s/step - loss: 2.8127 - accuracy: 0.7307 - val_loss: 2.5818 - val_accuracy: 0.7469\n",
      "Epoch 5/40\n",
      "50/50 [==============================] - ETA: 0s - loss: 2.4863 - accuracy: 0.7681\n",
      "Epoch 00005: saving model to checkpoint.h5\n",
      "50/50 [==============================] - 573s 11s/step - loss: 2.4863 - accuracy: 0.7681 - val_loss: 1.7481 - val_accuracy: 0.8156\n",
      "Epoch 6/40\n",
      "50/50 [==============================] - ETA: 0s - loss: 2.0172 - accuracy: 0.7877\n",
      "Epoch 00006: saving model to checkpoint.h5\n",
      "50/50 [==============================] - 574s 11s/step - loss: 2.0172 - accuracy: 0.7877 - val_loss: 1.2731 - val_accuracy: 0.8406\n",
      "Epoch 7/40\n",
      "50/50 [==============================] - ETA: 0s - loss: 2.2804 - accuracy: 0.7845\n",
      "Epoch 00007: saving model to checkpoint.h5\n",
      "50/50 [==============================] - 573s 11s/step - loss: 2.2804 - accuracy: 0.7845 - val_loss: 1.2603 - val_accuracy: 0.8531\n",
      "Epoch 8/40\n",
      "50/50 [==============================] - ETA: 0s - loss: 1.7806 - accuracy: 0.8118\n",
      "Epoch 00008: saving model to checkpoint.h5\n",
      "50/50 [==============================] - 573s 11s/step - loss: 1.7806 - accuracy: 0.8118 - val_loss: 0.8909 - val_accuracy: 0.8906\n",
      "Epoch 9/40\n",
      "50/50 [==============================] - ETA: 0s - loss: 1.8651 - accuracy: 0.8042\n",
      "Epoch 00009: saving model to checkpoint.h5\n",
      "50/50 [==============================] - 572s 11s/step - loss: 1.8651 - accuracy: 0.8042 - val_loss: 0.8655 - val_accuracy: 0.8969\n",
      "Epoch 10/40\n",
      "50/50 [==============================] - ETA: 0s - loss: 1.3889 - accuracy: 0.8574\n",
      "Epoch 00010: saving model to checkpoint.h5\n",
      "50/50 [==============================] - 573s 11s/step - loss: 1.3889 - accuracy: 0.8574 - val_loss: 0.9510 - val_accuracy: 0.8813\n",
      "Epoch 11/40\n",
      "50/50 [==============================] - ETA: 0s - loss: 1.4050 - accuracy: 0.8422\n",
      "Epoch 00011: saving model to checkpoint.h5\n",
      "50/50 [==============================] - 573s 11s/step - loss: 1.4050 - accuracy: 0.8422 - val_loss: 0.7262 - val_accuracy: 0.8938\n",
      "Epoch 12/40\n",
      "50/50 [==============================] - ETA: 0s - loss: 1.3965 - accuracy: 0.8454\n",
      "Epoch 00012: saving model to checkpoint.h5\n",
      "50/50 [==============================] - 573s 11s/step - loss: 1.3965 - accuracy: 0.8454 - val_loss: 0.9788 - val_accuracy: 0.8719\n",
      "Epoch 13/40\n",
      "50/50 [==============================] - ETA: 0s - loss: 1.6326 - accuracy: 0.8390   \n",
      "Epoch 00013: saving model to checkpoint.h5\n",
      "50/50 [==============================] - 30339s 607s/step - loss: 1.6326 - accuracy: 0.8390 - val_loss: 1.1925 - val_accuracy: 0.8562\n",
      "Epoch 14/40\n",
      "50/50 [==============================] - ETA: 0s - loss: 1.4371 - accuracy: 0.8422\n",
      "Epoch 00014: saving model to checkpoint.h5\n",
      "50/50 [==============================] - 572s 11s/step - loss: 1.4371 - accuracy: 0.8422 - val_loss: 0.9133 - val_accuracy: 0.8875\n",
      "Epoch 15/40\n",
      "50/50 [==============================] - ETA: 0s - loss: 1.2579 - accuracy: 0.8542\n",
      "Epoch 00015: saving model to checkpoint.h5\n",
      "50/50 [==============================] - 572s 11s/step - loss: 1.2579 - accuracy: 0.8542 - val_loss: 0.6370 - val_accuracy: 0.9031\n",
      "Epoch 16/40\n",
      "50/50 [==============================] - ETA: 0s - loss: 1.4741 - accuracy: 0.8403 \n",
      "Epoch 00016: saving model to checkpoint.h5\n",
      "50/50 [==============================] - 649s 13s/step - loss: 1.4741 - accuracy: 0.8403 - val_loss: 0.4699 - val_accuracy: 0.9281\n",
      "Epoch 17/40\n",
      "50/50 [==============================] - ETA: 0s - loss: 1.2797 - accuracy: 0.8599\n",
      "Epoch 00017: saving model to checkpoint.h5\n",
      "50/50 [==============================] - 583s 12s/step - loss: 1.2797 - accuracy: 0.8599 - val_loss: 0.5286 - val_accuracy: 0.9312\n",
      "Epoch 18/40\n",
      "50/50 [==============================] - ETA: 0s - loss: 1.0903 - accuracy: 0.8758\n",
      "Epoch 00018: saving model to checkpoint.h5\n",
      "50/50 [==============================] - 572s 11s/step - loss: 1.0903 - accuracy: 0.8758 - val_loss: 0.5006 - val_accuracy: 0.9250\n",
      "Epoch 19/40\n",
      "50/50 [==============================] - ETA: 0s - loss: 1.0125 - accuracy: 0.8840\n",
      "Epoch 00019: saving model to checkpoint.h5\n",
      "50/50 [==============================] - 571s 11s/step - loss: 1.0125 - accuracy: 0.8840 - val_loss: 0.5404 - val_accuracy: 0.9219\n",
      "Epoch 20/40\n",
      "50/50 [==============================] - ETA: 0s - loss: 1.1234 - accuracy: 0.8676\n",
      "Epoch 00020: saving model to checkpoint.h5\n",
      "50/50 [==============================] - 571s 11s/step - loss: 1.1234 - accuracy: 0.8676 - val_loss: 0.3738 - val_accuracy: 0.9250\n",
      "Epoch 21/40\n",
      "50/50 [==============================] - ETA: 0s - loss: 1.0991 - accuracy: 0.8777\n",
      "Epoch 00021: saving model to checkpoint.h5\n",
      "50/50 [==============================] - 571s 11s/step - loss: 1.0991 - accuracy: 0.8777 - val_loss: 0.5219 - val_accuracy: 0.9156\n",
      "Epoch 22/40\n",
      "50/50 [==============================] - ETA: 0s - loss: 0.8981 - accuracy: 0.8906\n",
      "Epoch 00022: saving model to checkpoint.h5\n",
      "50/50 [==============================] - 578s 12s/step - loss: 0.8981 - accuracy: 0.8906 - val_loss: 0.3462 - val_accuracy: 0.9281\n",
      "Epoch 23/40\n",
      "50/50 [==============================] - ETA: 0s - loss: 0.8943 - accuracy: 0.8834\n",
      "Epoch 00023: saving model to checkpoint.h5\n",
      "50/50 [==============================] - 572s 11s/step - loss: 0.8943 - accuracy: 0.8834 - val_loss: 0.5107 - val_accuracy: 0.9219\n",
      "Epoch 24/40\n",
      "50/50 [==============================] - ETA: 0s - loss: 0.9578 - accuracy: 0.8853\n",
      "Epoch 00024: saving model to checkpoint.h5\n",
      "50/50 [==============================] - 572s 11s/step - loss: 0.9578 - accuracy: 0.8853 - val_loss: 0.3456 - val_accuracy: 0.9344\n",
      "Epoch 25/40\n",
      "50/50 [==============================] - ETA: 0s - loss: 0.7269 - accuracy: 0.8986\n",
      "Epoch 00025: saving model to checkpoint.h5\n",
      "50/50 [==============================] - 571s 11s/step - loss: 0.7269 - accuracy: 0.8986 - val_loss: 0.6932 - val_accuracy: 0.9062\n",
      "Epoch 26/40\n",
      "50/50 [==============================] - ETA: 0s - loss: 0.8866 - accuracy: 0.8999\n",
      "Epoch 00026: saving model to checkpoint.h5\n",
      "50/50 [==============================] - 571s 11s/step - loss: 0.8866 - accuracy: 0.8999 - val_loss: 0.8097 - val_accuracy: 0.8906\n",
      "Epoch 27/40\n",
      "50/50 [==============================] - ETA: 0s - loss: 0.7252 - accuracy: 0.8999\n",
      "Epoch 00027: saving model to checkpoint.h5\n",
      "50/50 [==============================] - 571s 11s/step - loss: 0.7252 - accuracy: 0.8999 - val_loss: 0.4661 - val_accuracy: 0.9281\n",
      "Epoch 28/40\n",
      "50/50 [==============================] - ETA: 0s - loss: 0.8035 - accuracy: 0.8954\n",
      "Epoch 00028: saving model to checkpoint.h5\n",
      "50/50 [==============================] - 572s 11s/step - loss: 0.8035 - accuracy: 0.8954 - val_loss: 0.5294 - val_accuracy: 0.9250\n",
      "Epoch 29/40\n",
      "50/50 [==============================] - ETA: 0s - loss: 0.7400 - accuracy: 0.8929\n",
      "Epoch 00029: saving model to checkpoint.h5\n",
      "50/50 [==============================] - 572s 11s/step - loss: 0.7400 - accuracy: 0.8929 - val_loss: 0.7556 - val_accuracy: 0.9094\n",
      "Epoch 30/40\n",
      "50/50 [==============================] - ETA: 0s - loss: 0.7095 - accuracy: 0.9056\n",
      "Epoch 00030: saving model to checkpoint.h5\n",
      "50/50 [==============================] - 571s 11s/step - loss: 0.7095 - accuracy: 0.9056 - val_loss: 0.3490 - val_accuracy: 0.9375\n",
      "Epoch 31/40\n",
      "50/50 [==============================] - ETA: 0s - loss: 0.7591 - accuracy: 0.9106\n",
      "Epoch 00031: saving model to checkpoint.h5\n"
     ]
    },
    {
     "name": "stdout",
     "output_type": "stream",
     "text": [
      "50/50 [==============================] - 571s 11s/step - loss: 0.7591 - accuracy: 0.9106 - val_loss: 0.3329 - val_accuracy: 0.9281\n",
      "Epoch 32/40\n",
      "50/50 [==============================] - ETA: 0s - loss: 0.7634 - accuracy: 0.9056\n",
      "Epoch 00032: saving model to checkpoint.h5\n",
      "50/50 [==============================] - 571s 11s/step - loss: 0.7634 - accuracy: 0.9056 - val_loss: 0.5610 - val_accuracy: 0.9250\n",
      "Epoch 33/40\n",
      "50/50 [==============================] - ETA: 0s - loss: 0.8014 - accuracy: 0.9005\n",
      "Epoch 00033: saving model to checkpoint.h5\n",
      "50/50 [==============================] - 571s 11s/step - loss: 0.8014 - accuracy: 0.9005 - val_loss: 0.1970 - val_accuracy: 0.9594\n",
      "Epoch 34/40\n",
      "50/50 [==============================] - ETA: 0s - loss: 0.6111 - accuracy: 0.9138\n",
      "Epoch 00034: saving model to checkpoint.h5\n",
      "50/50 [==============================] - 572s 11s/step - loss: 0.6111 - accuracy: 0.9138 - val_loss: 0.3606 - val_accuracy: 0.9312\n",
      "Epoch 35/40\n",
      "50/50 [==============================] - ETA: 0s - loss: 0.6772 - accuracy: 0.9087\n",
      "Epoch 00035: saving model to checkpoint.h5\n",
      "50/50 [==============================] - 573s 11s/step - loss: 0.6772 - accuracy: 0.9087 - val_loss: 0.3133 - val_accuracy: 0.9406\n",
      "Epoch 36/40\n",
      "50/50 [==============================] - ETA: 0s - loss: 0.6870 - accuracy: 0.9202\n",
      "Epoch 00036: saving model to checkpoint.h5\n",
      "50/50 [==============================] - 572s 11s/step - loss: 0.6870 - accuracy: 0.9202 - val_loss: 0.4439 - val_accuracy: 0.9156\n",
      "Epoch 37/40\n",
      "50/50 [==============================] - ETA: 0s - loss: 0.7045 - accuracy: 0.9081\n",
      "Epoch 00037: saving model to checkpoint.h5\n",
      "50/50 [==============================] - 572s 11s/step - loss: 0.7045 - accuracy: 0.9081 - val_loss: 0.3212 - val_accuracy: 0.9344\n",
      "Epoch 38/40\n",
      "50/50 [==============================] - ETA: 0s - loss: 0.6233 - accuracy: 0.9233\n",
      "Epoch 00038: saving model to checkpoint.h5\n",
      "50/50 [==============================] - 572s 11s/step - loss: 0.6233 - accuracy: 0.9233 - val_loss: 0.2415 - val_accuracy: 0.9500\n",
      "Epoch 39/40\n",
      "50/50 [==============================] - ETA: 0s - loss: 0.5445 - accuracy: 0.9259\n",
      "Epoch 00039: saving model to checkpoint.h5\n",
      "50/50 [==============================] - 572s 11s/step - loss: 0.5445 - accuracy: 0.9259 - val_loss: 0.1271 - val_accuracy: 0.9688\n",
      "Epoch 40/40\n",
      "50/50 [==============================] - ETA: 0s - loss: 0.6777 - accuracy: 0.9221\n",
      "Epoch 00040: saving model to checkpoint.h5\n",
      "50/50 [==============================] - 571s 11s/step - loss: 0.6777 - accuracy: 0.9221 - val_loss: 0.0934 - val_accuracy: 0.9719\n",
      "53127.18195486069\n"
     ]
    }
   ],
   "source": [
    "# Start the training on vgg16\n",
    "import time\n",
    "\n",
    "start = time.time()\n",
    "\n",
    "filepath = \"checkpoint.h5\"\n",
    "\n",
    "# Create a callback that saves the model's weights\n",
    "cp_callback = ModelCheckpoint(filepath=filepath,save_weights_only=True,verbose=1)\n",
    "\n",
    "vgg19_history = vgg19.fit(\n",
    "    train_generator,\n",
    "    steps_per_epoch=50,\n",
    "    epochs=40,\n",
    "    validation_data=validation_generator,\n",
    "    validation_steps=20,\n",
    "    callbacks=[cp_callback]\n",
    ")\n",
    "\n",
    "end = time.time()\n",
    "print(end - start)\n",
    "\n",
    "#Apply Checkpoint\n",
    "# from keras.callbacks import ModelCheckpoint \n",
    "# filepath = \"checkpoint.h5\"\n",
    "# checkpoint = ModelCheckpoint(filepath , monitor='val_accuracy', verbose =1,\n",
    "#                             save_best_only =True, mode = 'max')\n",
    "\n",
    "# callbacks_list = [checkpoint]"
   ]
  },
  {
   "cell_type": "code",
   "execution_count": 31,
   "metadata": {},
   "outputs": [
    {
     "name": "stdout",
     "output_type": "stream",
     "text": [
      "dict_keys(['loss', 'accuracy', 'val_loss', 'val_accuracy'])\n"
     ]
    }
   ],
   "source": [
    "print(vgg19_history.history.keys())"
   ]
  },
  {
   "cell_type": "code",
   "execution_count": 32,
   "metadata": {},
   "outputs": [
    {
     "data": {
      "image/png": "[encoded data removed]",
      "text/plain": [
       "<Figure size 432x288 with 1 Axes>"
      ]
     },
     "metadata": {
      "needs_background": "light"
     },
     "output_type": "display_data"
    }
   ],
   "source": [
    "import keras\n",
    "from matplotlib import pyplot as plt\n",
    "#history = model1.fit(train_x, train_y,validation_split = 0.1, epochs=40, batch_size=50)\n",
    "plt.plot(vgg19_history.history['accuracy'])\n",
    "plt.plot(vgg19_history.history['val_accuracy'])\n",
    "plt.title('Model Accuracy')\n",
    "plt.ylabel('Accuracy')\n",
    "plt.xlabel('Epoch')\n",
    "plt.legend(['train', 'val'], loc='upper left')\n",
    "plt.show()"
   ]
  },
  {
   "cell_type": "code",
   "execution_count": 33,
   "metadata": {
    "scrolled": true
   },
   "outputs": [
    {
     "data": {
      "image/png": "[encoded data removed]",
      "text/plain": [
       "<Figure size 432x288 with 1 Axes>"
      ]
     },
     "metadata": {
      "needs_background": "light"
     },
     "output_type": "display_data"
    }
   ],
   "source": [
    "plt.plot(vgg19_history.history['loss'])\n",
    "plt.plot(vgg19_history.history['val_loss'])\n",
    "plt.title('Model Loss')\n",
    "plt.ylabel('Accuracy')\n",
    "plt.xlabel('Epoch')\n",
    "plt.legend(['Training', 'val'], loc='upper left')\n",
    "plt.show()"
   ]
  },
  {
   "cell_type": "code",
   "execution_count": 35,
   "metadata": {},
   "outputs": [
    {
     "name": "stdout",
     "output_type": "stream",
     "text": [
      "1/1 [==============================] - 0s 1ms/step - loss: 0.0084 - accuracy: 1.0000\n"
     ]
    },
    {
     "data": {
      "text/plain": [
       "[0.008400882594287395, 1.0]"
      ]
     },
     "execution_count": 35,
     "metadata": {},
     "output_type": "execute_result"
    }
   ],
   "source": [
    "vgg19.evaluate(X_test_prep,y_test)"
   ]
  },
  {
   "cell_type": "code",
   "execution_count": 44,
   "metadata": {},
   "outputs": [],
   "source": [
    "y_pred = vgg19.predict(X_test_prep)"
   ]
  },
  {
   "cell_type": "code",
   "execution_count": 45,
   "metadata": {},
   "outputs": [],
   "source": [
    "y_pred = [1 if pred > 0.5 else 0 for pred in y_pred]"
   ]
  },
  {
   "cell_type": "code",
   "execution_count": 46,
   "metadata": {},
   "outputs": [
    {
     "data": {
      "text/plain": [
       "[0, 0, 0, 0, 0, 1, 1, 1, 1, 1]"
      ]
     },
     "execution_count": 46,
     "metadata": {},
     "output_type": "execute_result"
    }
   ],
   "source": [
    "y_pred"
   ]
  },
  {
   "cell_type": "code",
   "execution_count": 19,
   "metadata": {},
   "outputs": [
    {
     "name": "stdout",
     "output_type": "stream",
     "text": [
      "13/13 [==============================] - 144s 10s/step - loss: 0.1826 - accuracy: 0.9572\n"
     ]
    },
    {
     "data": {
      "text/plain": [
       "[0.1497439444065094, 0.9660193920135498]"
      ]
     },
     "execution_count": 19,
     "metadata": {},
     "output_type": "execute_result"
    }
   ],
   "source": [
    "vgg19.evaluate(X_val_prep,y_val)"
   ]
  },
  {
   "cell_type": "code",
   "execution_count": null,
   "metadata": {},
   "outputs": [],
   "source": []
  },
  {
   "cell_type": "code",
   "execution_count": null,
   "metadata": {},
   "outputs": [],
   "source": []
  },
  {
   "cell_type": "code",
   "execution_count": 8,
   "metadata": {},
   "outputs": [],
   "source": [
    "vgg19.load_weights('checkpoint.h5')"
   ]
  },
  {
   "cell_type": "code",
   "execution_count": 20,
   "metadata": {},
   "outputs": [],
   "source": [
    "y_pred = vgg19.predict(X_val_prep)"
   ]
  },
  {
   "cell_type": "code",
   "execution_count": 23,
   "metadata": {},
   "outputs": [],
   "source": [
    "y_pred = [1 if pred > 0.5 else 0 for pred in y_pred]"
   ]
  },
  {
   "cell_type": "code",
   "execution_count": 24,
   "metadata": {},
   "outputs": [],
   "source": [
    "cm = confusion_matrix(y_val,y_pred)"
   ]
  },
  {
   "cell_type": "code",
   "execution_count": 25,
   "metadata": {},
   "outputs": [
    {
     "data": {
      "text/plain": [
       "array([[183,  13],\n",
       "       [  1, 215]])"
      ]
     },
     "execution_count": 25,
     "metadata": {},
     "output_type": "execute_result"
    }
   ],
   "source": [
    "cm"
   ]
  },
  {
   "cell_type": "code",
   "execution_count": 8,
   "metadata": {},
   "outputs": [
    {
     "ename": "AttributeError",
     "evalue": "'list' object has no attribute 'max'",
     "output_type": "error",
     "traceback": [
      "\u001b[0;31m---------------------------------------------------------------------------\u001b[0m",
      "\u001b[0;31mAttributeError\u001b[0m                            Traceback (most recent call last)",
      "\u001b[0;32m<ipython-input-8-906e4d711b0a>\u001b[0m in \u001b[0;36m<module>\u001b[0;34m\u001b[0m\n\u001b[0;32m----> 1\u001b[0;31m \u001b[0mplot_confusion_matrix\u001b[0m\u001b[0;34m(\u001b[0m\u001b[0mcm\u001b[0m\u001b[0;34m,\u001b[0m\u001b[0;34m[\u001b[0m\u001b[0;36m0\u001b[0m\u001b[0;34m,\u001b[0m\u001b[0;36m1\u001b[0m\u001b[0;34m]\u001b[0m\u001b[0;34m)\u001b[0m\u001b[0;34m\u001b[0m\u001b[0;34m\u001b[0m\u001b[0m\n\u001b[0m",
      "\u001b[0;32m<ipython-input-5-9e7fccaacec2>\u001b[0m in \u001b[0;36mplot_confusion_matrix\u001b[0;34m(cm, classes, normalize, title, cmap)\u001b[0m\n\u001b[1;32m     17\u001b[0m         \u001b[0mcm\u001b[0m \u001b[0;34m=\u001b[0m \u001b[0mcm\u001b[0m\u001b[0;34m.\u001b[0m\u001b[0mastype\u001b[0m\u001b[0;34m(\u001b[0m\u001b[0;34m'float'\u001b[0m\u001b[0;34m)\u001b[0m \u001b[0;34m/\u001b[0m \u001b[0mcm\u001b[0m\u001b[0;34m.\u001b[0m\u001b[0msum\u001b[0m\u001b[0;34m(\u001b[0m\u001b[0maxis\u001b[0m\u001b[0;34m=\u001b[0m\u001b[0;36m1\u001b[0m\u001b[0;34m)\u001b[0m\u001b[0;34m[\u001b[0m\u001b[0;34m:\u001b[0m\u001b[0;34m,\u001b[0m \u001b[0mnp\u001b[0m\u001b[0;34m.\u001b[0m\u001b[0mnewaxis\u001b[0m\u001b[0;34m]\u001b[0m\u001b[0;34m\u001b[0m\u001b[0;34m\u001b[0m\u001b[0m\n\u001b[1;32m     18\u001b[0m \u001b[0;34m\u001b[0m\u001b[0m\n\u001b[0;32m---> 19\u001b[0;31m     \u001b[0mthresh\u001b[0m \u001b[0;34m=\u001b[0m \u001b[0mcm\u001b[0m\u001b[0;34m.\u001b[0m\u001b[0mmax\u001b[0m\u001b[0;34m(\u001b[0m\u001b[0;34m)\u001b[0m \u001b[0;34m/\u001b[0m \u001b[0;36m2.\u001b[0m\u001b[0;34m\u001b[0m\u001b[0;34m\u001b[0m\u001b[0m\n\u001b[0m\u001b[1;32m     20\u001b[0m     \u001b[0mcm\u001b[0m \u001b[0;34m=\u001b[0m \u001b[0mnp\u001b[0m\u001b[0;34m.\u001b[0m\u001b[0mround\u001b[0m\u001b[0;34m(\u001b[0m\u001b[0mcm\u001b[0m\u001b[0;34m,\u001b[0m\u001b[0;36m2\u001b[0m\u001b[0;34m)\u001b[0m\u001b[0;34m\u001b[0m\u001b[0;34m\u001b[0m\u001b[0m\n\u001b[1;32m     21\u001b[0m     \u001b[0;32mfor\u001b[0m \u001b[0mi\u001b[0m\u001b[0;34m,\u001b[0m \u001b[0mj\u001b[0m \u001b[0;32min\u001b[0m \u001b[0mitertools\u001b[0m\u001b[0;34m.\u001b[0m\u001b[0mproduct\u001b[0m\u001b[0;34m(\u001b[0m\u001b[0mrange\u001b[0m\u001b[0;34m(\u001b[0m\u001b[0mcm\u001b[0m\u001b[0;34m.\u001b[0m\u001b[0mshape\u001b[0m\u001b[0;34m[\u001b[0m\u001b[0;36m0\u001b[0m\u001b[0;34m]\u001b[0m\u001b[0;34m)\u001b[0m\u001b[0;34m,\u001b[0m \u001b[0mrange\u001b[0m\u001b[0;34m(\u001b[0m\u001b[0mcm\u001b[0m\u001b[0;34m.\u001b[0m\u001b[0mshape\u001b[0m\u001b[0;34m[\u001b[0m\u001b[0;36m1\u001b[0m\u001b[0;34m]\u001b[0m\u001b[0;34m)\u001b[0m\u001b[0;34m)\u001b[0m\u001b[0;34m:\u001b[0m\u001b[0;34m\u001b[0m\u001b[0;34m\u001b[0m\u001b[0m\n",
      "\u001b[0;31mAttributeError\u001b[0m: 'list' object has no attribute 'max'"
     ]
    },
    {
     "data": {
      "image/png": "[encoded data removed]",
      "text/plain": [
       "<Figure size 432x432 with 2 Axes>"
      ]
     },
     "metadata": {
      "needs_background": "light"
     },
     "output_type": "display_data"
    }
   ],
   "source": [
    "plot_confusion_matrix(cm,[0,1])"
   ]
  },
  {
   "cell_type": "code",
   "execution_count": 1,
   "metadata": {},
   "outputs": [],
   "source": [
    "from sklearn.metrics import precision_recall_fscore_support"
   ]
  },
  {
   "cell_type": "code",
   "execution_count": 28,
   "metadata": {},
   "outputs": [
    {
     "data": {
      "text/plain": [
       "(0.9687738367658276, 0.9645219198790627, 0.9658131816026554, None)"
      ]
     },
     "execution_count": 28,
     "metadata": {},
     "output_type": "execute_result"
    }
   ],
   "source": [
    "precision_recall_fscore_support(y_val, y_pred, average='macro')"
   ]
  },
  {
   "cell_type": "code",
   "execution_count": 30,
   "metadata": {},
   "outputs": [
    {
     "data": {
      "text/plain": [
       "(0.9660194174757282, 0.9660194174757282, 0.9660194174757282, None)"
      ]
     },
     "execution_count": 30,
     "metadata": {},
     "output_type": "execute_result"
    }
   ],
   "source": [
    "precision_recall_fscore_support(y_val, y_pred, average='micro')"
   ]
  },
  {
   "cell_type": "code",
   "execution_count": 31,
   "metadata": {},
   "outputs": [
    {
     "data": {
      "text/plain": [
       "(0.9675218279976007, 0.9660194174757282, 0.9659420790233259, None)"
      ]
     },
     "execution_count": 31,
     "metadata": {},
     "output_type": "execute_result"
    }
   ],
   "source": [
    "precision_recall_fscore_support(y_val, y_pred, average='weighted')"
   ]
  },
  {
   "cell_type": "code",
   "execution_count": 9,
   "metadata": {},
   "outputs": [],
   "source": [
    "cm = [[512,15,4],[18,1021,30],[4,18,675]]\n",
    "cm = np.array(cm)"
   ]
  },
  {
   "cell_type": "code",
   "execution_count": 10,
   "metadata": {},
   "outputs": [
    {
     "data": {
      "image/png": "[encoded data removed]",
      "text/plain": [
       "<Figure size 432x432 with 2 Axes>"
      ]
     },
     "metadata": {
      "needs_background": "light"
     },
     "output_type": "display_data"
    }
   ],
   "source": [
    "plot_confusion_matrix(cm,[1,2])"
   ]
  },
  {
   "cell_type": "code",
   "execution_count": null,
   "metadata": {},
   "outputs": [],
   "source": []
  }
 ],
 "metadata": {
  "kernelspec": {
   "display_name": "Python 3",
   "language": "python",
   "name": "python3"
  },
  "language_info": {
   "codemirror_mode": {
    "name": "ipython",
    "version": 3
   },
   "file_extension": ".py",
   "mimetype": "text/x-python",
   "name": "python",
   "nbconvert_exporter": "python",
   "pygments_lexer": "ipython3",
   "version": "3.8.3"
  }
 },
 "nbformat": 4,
 "nbformat_minor": 4
}
