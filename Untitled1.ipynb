{
 "cells": [
  {
   "cell_type": "code",
   "execution_count": 1,
   "metadata": {},
   "outputs": [],
   "source": [
    "import numpy as np\n",
    "import cv2\n",
    "from matplotlib import pyplot as plt"
   ]
  },
  {
   "cell_type": "code",
   "execution_count": 9,
   "metadata": {},
   "outputs": [],
   "source": [
    "def addsalt_pepper(img, SNR):\n",
    "    img_ = img.copy()\n",
    "    c, h, w = img_.shape\n",
    "    mask = np.random.choice((0, 1, 2), size=(1, h, w), p=[SNR, (1 - SNR) / 2., (1 - SNR) / 2.])\n",
    "    Mask = np.repeat(mask, c, axis=0) # Copy by channel to have the same shape as img\n",
    "    img_[mask == 1] = 255 # salt noise\n",
    "    img_[mask == 2] = 0 # \n",
    "\n",
    "    return img_"
   ]
  },
  {
   "cell_type": "code",
   "execution_count": null,
   "metadata": {},
   "outputs": [],
   "source": [
    "img = cv2.imread('/home/vivek/Desktop/BTP_2020/Classification/augmented_dataset/type1/aug_52_0_3711.jpg')\n",
    "\n",
    "SNR_list = [0.9, 0.7, 0.5, 0.3]\n",
    "sub_plot = [221, 222, 223, 224]\n",
    "\n",
    "plt.figure(1)\n",
    "for i in range(len(SNR_list)):\n",
    "    plt.subplot(sub_plot[i])\n",
    "    img_s = addsalt_pepper(img.transpose(2, 1, 0), SNR_list[i])     # c,\n",
    "    img_s = img_s.transpose(2, 1, 0)\n",
    "    cv2.imshow('PepperandSalt', img_s)\n",
    "    cv2.waitKey(0)\n",
    "    plt.imshow(img_s[:,:,::-1])     # bgr --> rgb\n",
    "    plt.title('add salt pepper noise(SNR={})'.format(SNR_list[i]))  \n",
    "\n",
    "plt.show()"
   ]
  },
  {
   "cell_type": "code",
   "execution_count": null,
   "metadata": {},
   "outputs": [],
   "source": [
    "import cv2\n",
    "import numpy as np\n",
    "from skimage.util import random_noise"
   ]
  },
  {
   "cell_type": "code",
   "execution_count": null,
   "metadata": {},
   "outputs": [],
   "source": [
    " \n",
    "# Load the image"
   ]
  },
  {
   "cell_type": "code",
   "execution_count": null,
   "metadata": {},
   "outputs": [],
   "source": [
    "img = cv2.imread('/home/vivek/Desktop/BTP_2020/Classification/augmented_dataset/type1/aug_52_0_3711.jpg')\n",
    " \n",
    "# Add salt-and-pepper noise to the image.\n",
    "noise_img = random_noise(img, mode='s"
   ]
  },
  {
   "cell_type": "code",
   "execution_count": 1,
   "metadata": {},
   "outputs": [],
   "source": [
    "import cv2\n",
    "import numpy as np\n",
    "from skimage.util import random_noise"
   ]
  },
  {
   "cell_type": "code",
   "execution_count": null,
   "metadata": {},
   "outputs": [],
   "source": [
    " # Load the image\n",
    "img = cv2.imread('/home/vivek/Desktop/BTP_2020/Classification/augmented_dataset/type1/aug_52_0_3711.jpg')\n",
    " \n",
    "# Add salt-and-pepper noise to the image.\n",
    "noise_img = random_noise(img, mode='s&p',amount=0.15)\n",
    " \n",
    "# The above function returns a floating-point image\n",
    "# on the range [0, 1], thus we changed it to 'uint8'\n",
    "# and from [0,255]\n",
    "noise_img = np.array(255*noise_img, dtype = 'uint8')\n",
    "noise_img = cv2.cvtColor(noise_img, cv2.COLOR_BGR2GRAY)\n",
    " \n",
    "# Display the noise image\n",
    "cv2.imshow('blur',noise_img)\n",
    "cv2.waitKey(0)"
   ]
  },
  {
   "cell_type": "code",
   "execution_count": null,
   "metadata": {},
   "outputs": [],
   "source": []
  }
 ],
 "metadata": {
  "kernelspec": {
   "display_name": "Python 3",
   "language": "python",
   "name": "python3"
  },
  "language_info": {
   "codemirror_mode": {
    "name": "ipython",
    "version": 3
   },
   "file_extension": ".py",
   "mimetype": "text/x-python",
   "name": "python",
   "nbconvert_exporter": "python",
   "pygments_lexer": "ipython3",
   "version": "3.8.3"
  }
 },
 "nbformat": 4,
 "nbformat_minor": 4
}
